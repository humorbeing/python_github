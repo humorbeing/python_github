{
 "cells": [
  {
   "cell_type": "code",
   "execution_count": 0,
   "metadata": {
    "id": "EJJjrE-tYodi",
    "colab_type": "code",
    "outputId": "3e514785-d9ab-4ac0-e2d2-3da06f4bcaa7",
    "colab": {
     "base_uri": "https://localhost:8080/",
     "height": 123.0
    }
   },
   "outputs": [
    {
     "name": "stdout",
     "output_type": "stream",
     "text": [
      "Go to this URL in a browser: https://accounts.google.com/o/oauth2/auth?client_id=947318989803-6bn6qk8qdgf4n4g3pfee6491hc0brc4i.apps.googleusercontent.com&redirect_uri=urn%3aietf%3awg%3aoauth%3a2.0%3aoob&response_type=code&scope=email%20https%3a%2f%2fwww.googleapis.com%2fauth%2fdocs.test%20https%3a%2f%2fwww.googleapis.com%2fauth%2fdrive%20https%3a%2f%2fwww.googleapis.com%2fauth%2fdrive.photos.readonly%20https%3a%2f%2fwww.googleapis.com%2fauth%2fpeopleapi.readonly\n",
      "\n",
      "Enter your authorization code:\n",
      "··········\n",
      "Mounted at /content/drive\n"
     ]
    }
   ],
   "source": [
    "from google.colab import drive\n",
    "drive.mount('/content/drive')"
   ]
  },
  {
   "cell_type": "code",
   "execution_count": 0,
   "metadata": {
    "id": "IlyNpSqrcinm",
    "colab_type": "code",
    "colab": {}
   },
   "outputs": [],
   "source": [
    "import torch\n",
    "import torch.nn as nn\n",
    "import torch.optim as optim\n",
    "from torchvision import datasets\n",
    "import time\n",
    "import torchvision\n",
    "from torchvision import transforms\n",
    "import numpy as np\n",
    "from torch.utils.data.sampler import SubsetRandomSampler\n",
    "import copy\n",
    "import matplotlib.pyplot as plt"
   ]
  },
  {
   "cell_type": "code",
   "execution_count": 0,
   "metadata": {
    "id": "tFZ6AAO1c52y",
    "colab_type": "code",
    "colab": {}
   },
   "outputs": [],
   "source": [
    "# Hyperparameter\n",
    "batch_size = 100\n",
    "EPOCH = 100\n",
    "\n",
    "\n",
    "google_drive_fish_classification_path = '/content/drive/My Drive/Colab Notebooks/fish_classification'\n",
    "local_path = '.'\n",
    "# the_path = local_path  # pnu pc\n",
    "the_path = google_drive_fish_classification_path  # colab\n",
    "dataset_folder = 'Batoidea(ga_oo_lee)'\n",
    "data_dir = the_path + '/' + dataset_folder\n",
    "input_size = 224\n",
    "num_workers = 2\n",
    "valid_ratio = 0.3\n",
    "# Device configuration\n",
    "device = torch.device('cuda' if torch.cuda.is_available() else 'cpu')\n",
    "# device = torch.device('cpu')\n",
    "channel_stats = dict(mean=[0.485, 0.456, 0.406],\n",
    "                     std=[0.229, 0.224, 0.225])\n",
    "train_transformation = transforms.Compose([\n",
    "    transforms.Resize(256),\n",
    "    transforms.RandomRotation(10),\n",
    "    transforms.RandomResizedCrop(input_size),\n",
    "    transforms.RandomHorizontalFlip(),\n",
    "    transforms.ColorJitter(brightness=0.4, contrast=0.4, saturation=0.4, hue=0.1),\n",
    "    transforms.ToTensor(),\n",
    "    transforms.Normalize(**channel_stats)\n",
    "])\n",
    "eval_transformation = transforms.Compose([\n",
    "    transforms.Resize(256),\n",
    "    transforms.CenterCrop(224),\n",
    "    transforms.ToTensor(),\n",
    "    transforms.Normalize(**channel_stats)\n",
    "])\n",
    "train_dataset = datasets.ImageFolder(data_dir, train_transformation)\n",
    "val_dataset = datasets.ImageFolder(data_dir, eval_transformation)\n",
    "\n",
    "num_samples = len(train_dataset)\n",
    "indices = list(range(num_samples))\n",
    "split = int(np.floor(valid_ratio * num_samples))\n",
    "np.random.seed(123)\n",
    "np.random.shuffle(indices)\n",
    "train_idx, valid_idx = indices[split:], indices[:split]\n",
    "\n",
    "train_sampler = SubsetRandomSampler(train_idx)\n",
    "valid_sampler = SubsetRandomSampler(valid_idx)\n",
    "\n",
    "train_loader = torch.utils.data.DataLoader(train_dataset,\n",
    "                                               batch_size=batch_size, sampler=train_sampler,\n",
    "                                               num_workers=num_workers)\n",
    "\n",
    "valid_loader = torch.utils.data.DataLoader(val_dataset,\n",
    "                                            batch_size=batch_size, sampler=valid_sampler,\n",
    "                                            num_workers=num_workers)\n",
    "\n",
    "dset_loaders = {'train': train_loader,\n",
    "                'val': valid_loader}\n",
    "dset_classes = train_dataset.classes\n",
    "num_class = len(dset_classes)\n",
    "dset_sizes = {'train': len(train_idx),\n",
    "                'val': len(valid_idx)}\n",
    "\n",
    "def exp_lr_scheduler(optimizer, epoch, init_lr=0.01, lr_decay_epoch=10):\n",
    "    \"\"\"Decay learning rate by a factor of 0.1 every lr_decay_epoch epochs.\"\"\"\n",
    "    lr = init_lr * (0.1**(epoch // lr_decay_epoch))\n",
    "\n",
    "    if epoch % lr_decay_epoch == 0:\n",
    "        print('LR is set to {}'.format(lr))\n",
    "\n",
    "    for param_group in optimizer.param_groups:\n",
    "        param_group['lr'] = lr\n",
    "\n",
    "    return optimizer"
   ]
  },
  {
   "cell_type": "code",
   "execution_count": 0,
   "metadata": {
    "id": "roKIi4827C9m",
    "colab_type": "code",
    "colab": {}
   },
   "outputs": [],
   "source": [
    "def train_model(model, criterion, optimizer, lr_scheduler, num_epochs=25):\n",
    "    since = time.time()\n",
    "\n",
    "    best_model = model\n",
    "    best_acc = 0.0\n",
    "    logging_acc = {\n",
    "        'train': [],\n",
    "        'val': []\n",
    "    }\n",
    "    for epoch in range(num_epochs):\n",
    "        # print('Epoch {}/{}'.format(epoch, num_epochs - 1))\n",
    "        # print('-' * 10)\n",
    "\n",
    "        # Each epoch has a training and validation phase\n",
    "        for phase in ['train', 'val']:\n",
    "            if phase == 'train':\n",
    "                optimizer = lr_scheduler(optimizer, epoch)\n",
    "                model.train(True)  # Set model to training mode\n",
    "            else:\n",
    "                model.train(False)  # Set model to evaluate mode\n",
    "\n",
    "            running_loss = 0.0\n",
    "            running_corrects = 0\n",
    "\n",
    "            # Iterate over data.\n",
    "            for inputs, labels in dset_loaders[phase]:\n",
    "                inputs = inputs.to(device)\n",
    "                labels = labels.to(device)\n",
    "\n",
    "                optimizer.zero_grad()\n",
    "\n",
    "                # forward\n",
    "                outputs = model(inputs)\n",
    "                _, preds = torch.max(outputs.data, 1)\n",
    "                loss = criterion(outputs, labels)\n",
    "\n",
    "                # backward + optimize only if in training phase\n",
    "                if phase == 'train':\n",
    "                    loss.backward()\n",
    "                    optimizer.step()\n",
    "\n",
    "                # statistics\n",
    "                running_loss += loss.item()\n",
    "                running_corrects += torch.sum(preds == labels)\n",
    "\n",
    "            epoch_loss = running_loss / dset_sizes[phase]\n",
    "            epoch_acc = running_corrects.item() / dset_sizes[phase]\n",
    "            logging_acc[phase].append(epoch_acc)\n",
    "            # print('{} Loss: {:.4f} Acc: {:.4f}'.format(\n",
    "            #     phase, epoch_loss, epoch_acc))\n",
    "\n",
    "            # deep copy the model\n",
    "            if phase == 'val' and epoch_acc > best_acc:\n",
    "                best_acc = epoch_acc\n",
    "                best_model = copy.deepcopy(model)\n",
    "        # print()\n",
    "\n",
    "    time_elapsed = time.time() - since\n",
    "    print('Training complete in {:.0f}m {:.0f}s'.format(\n",
    "        time_elapsed // 60, time_elapsed % 60))\n",
    "    print('Best val Acc: {:4f}'.format(best_acc))\n",
    "    plt.plot(range(len(logging_acc['train'])), logging_acc['train'], 'r')\n",
    "    plt.plot(range(len(logging_acc['val'])), logging_acc['val'], 'b')\n",
    "    plt.legend(('Train Acc', 'Val Acc'),\n",
    "               loc='lower right')\n",
    "    plt.xlabel('Epoch')\n",
    "    plt.ylabel('Accuracy')\n",
    "    plt.show()\n",
    "    return best_model"
   ]
  },
  {
   "cell_type": "code",
   "execution_count": 0,
   "metadata": {
    "id": "QwVsWkKemNa0",
    "colab_type": "code",
    "outputId": "5e310403-9bff-4393-add0-d6250e27028b",
    "colab": {
     "base_uri": "https://localhost:8080/",
     "height": 484.0
    }
   },
   "outputs": [
    {
     "name": "stdout",
     "output_type": "stream",
     "text": [
      "LR is set to 0.01\n",
      "LR is set to 0.001\n",
      "LR is set to 0.00010000000000000002\n",
      "LR is set to 1.0000000000000003e-05\n",
      "LR is set to 1.0000000000000002e-06\n",
      "LR is set to 1.0000000000000002e-07\n",
      "LR is set to 1.0000000000000004e-08\n",
      "LR is set to 1.0000000000000005e-09\n",
      "LR is set to 1.0000000000000006e-10\n",
      "LR is set to 1.0000000000000004e-11\n",
      "Training complete in 12m 29s\n",
      "Best val Acc: 0.815385\n"
     ]
    },
    {
     "data": {
      "image/png": "[encoded data removed]",
      "text/plain": [
       "<Figure size 432x288 with 1 Axes>"
      ]
     },
     "metadata": {
      "tags": []
     },
     "output_type": "display_data"
    }
   ],
   "source": [
    "is_fine_tuning = True  # otherwise, its training last layer only\n",
    "model_conv = torchvision.models.resnet18(pretrained=True)\n",
    "# model_conv = torchvision.models.resnet50(pretrained=True)\n",
    "if is_fine_tuning:\n",
    "    for param in model_conv.parameters():\n",
    "        param.requires_grad = True\n",
    "else:\n",
    "    for param in model_conv.parameters():\n",
    "        param.requires_grad = False\n",
    "num_in_ftrs = model_conv.fc.in_features\n",
    "model_conv.fc = nn.Linear(num_in_ftrs, num_class)\n",
    "model_conv = model_conv.to(device)\n",
    "\n",
    "criterion = nn.CrossEntropyLoss()\n",
    "optimizer_conv = optim.SGD(model_conv.parameters(), lr=0.01, momentum=0.9)\n",
    "model_conv = train_model(model_conv, criterion, optimizer_conv,\n",
    "                            exp_lr_scheduler, num_epochs=EPOCH)\n"
   ]
  }
 ],
 "metadata": {
  "colab": {
   "name": "fish_classification_v0001.ipynb",
   "provenance": []
  },
  "kernelspec": {
   "name": "python3",
   "display_name": "Python 3"
  },
  "accelerator": "GPU"
 },
 "nbformat": 4,
 "nbformat_minor": 0
}
